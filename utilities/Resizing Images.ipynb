{
 "cells": [
  {
   "cell_type": "markdown",
   "metadata": {},
   "source": [
    "## Starting code\n",
    "\n",
    "```python\n",
    "# Improting Image class from PIL module  \n",
    "from PIL import Image  \n",
    "  \n",
    "# Opens a image in RGB mode  \n",
    "im = Image.open(r\"C:\\Users\\System-Pc\\Desktop\\ybear.jpg\")  \n",
    "  \n",
    "# Size of the image in pixels (size of orginal image)  \n",
    "# (This is not mandatory)  \n",
    "width, height = im.size  \n",
    "  \n",
    "# Setting the points for cropped image  \n",
    "left = 4\n",
    "top = height / 5\n",
    "right = 154\n",
    "bottom = 3 * height / 5\n",
    "  \n",
    "# Cropped image of above dimension  \n",
    "# (It will not change orginal image)  \n",
    "im1 = im.crop((left, top, right, bottom)) \n",
    "newsize = (300, 300) \n",
    "im1 = im1.resize(newsize) \n",
    "# Shows the image in image viewer  \n",
    "im1.show()  \n",
    "```"
   ]
  },
  {
   "cell_type": "code",
   "execution_count": null,
   "metadata": {},
   "outputs": [],
   "source": [
    "import os\n",
    "from collections import defaultdict\n",
    "import re\n",
    "from math import floor\n",
    "from pathlib import Path\n",
    "from PIL import Image\n",
    "from shutil import copyfile\n",
    "\n",
    "import matplotlib.pyplot as plt\n",
    "from matplotlib.pyplot import imshow\n",
    "\n",
    "%matplotlib inline"
   ]
  },
  {
   "cell_type": "code",
   "execution_count": null,
   "metadata": {},
   "outputs": [],
   "source": [
    "IMG_FOLDER = Path(r\"./../assets/img\")\n",
    "ORIGINAL_IMAGES = IMG_FOLDER / \"original\"\n",
    "RESIZED_IMAGES = IMG_FOLDER / \"resized\""
   ]
  },
  {
   "cell_type": "code",
   "execution_count": null,
   "metadata": {
    "scrolled": true
   },
   "outputs": [],
   "source": [
    "im = Image.open(ORIGINAL_IMAGES / \"adam1.JPG\")\n",
    "imshow(im);"
   ]
  },
  {
   "cell_type": "code",
   "execution_count": null,
   "metadata": {},
   "outputs": [],
   "source": [
    "width, height = im.size\n",
    "width, height"
   ]
  },
  {
   "cell_type": "code",
   "execution_count": null,
   "metadata": {},
   "outputs": [],
   "source": [
    "center = width/2, height/2\n",
    "smallest = min([width, height])\n",
    "\n",
    "center, smallest"
   ]
  },
  {
   "cell_type": "code",
   "execution_count": null,
   "metadata": {},
   "outputs": [],
   "source": [
    "desired_height, desired_width = 1000, 667\n",
    "hw_ratio = desired_width / desired_height\n",
    "\n",
    "hw_ratio"
   ]
  },
  {
   "cell_type": "code",
   "execution_count": null,
   "metadata": {},
   "outputs": [],
   "source": [
    "offset = smallest/2\n",
    "\n",
    "left = int(center[0] - (offset*hw_ratio))\n",
    "top = int(center[1] - offset)\n",
    "right = int(center[0] + (offset*hw_ratio))\n",
    "bottom = int(center[1] + offset)\n",
    "\n",
    "left, top, right, bottom\n",
    "\n",
    "new_image = im.crop((\n",
    "    left, top, right, bottom\n",
    "))"
   ]
  },
  {
   "cell_type": "code",
   "execution_count": null,
   "metadata": {
    "scrolled": false
   },
   "outputs": [],
   "source": [
    "imshow(new_image.resize((desired_width, desired_height)))"
   ]
  },
  {
   "cell_type": "code",
   "execution_count": null,
   "metadata": {},
   "outputs": [],
   "source": [
    "def best_wh_sizes(center_x, height, hw_ratio):\n",
    "    while True:\n",
    "        difference = int(center_x - height*hw_ratio)\n",
    "        if difference > 0:\n",
    "            return int(height*hw_ratio), height\n",
    "            \n",
    "        height -= 1\n",
    "\n",
    "\n",
    "def resize_image(fp, hw_ratio=0.67):\n",
    "    im = Image.open(fp)\n",
    "    \n",
    "    width, height = im.size\n",
    "    \n",
    "    # want to base the cropped size off the smallest edge\n",
    "    center = width/2, height/2\n",
    "    \n",
    "    # always based off the center\n",
    "    width, height = best_wh_sizes(center[0], center[1], hw_ratio)\n",
    "\n",
    "    left = int(center[0] - width)\n",
    "    top = int(center[1] - height)\n",
    "    right = int(center[0] + width)\n",
    "    bottom = int(center[1] + height)\n",
    "    \n",
    "    # Cropped ratio is based on the hw_ratio ratio\n",
    "    return im.crop((\n",
    "        left, top, right, bottom\n",
    "    ))"
   ]
  },
  {
   "cell_type": "code",
   "execution_count": null,
   "metadata": {},
   "outputs": [],
   "source": [
    "imshow(resize_image(ORIGINAL_IMAGES / \"adam1.JPG\"))"
   ]
  },
  {
   "cell_type": "code",
   "execution_count": null,
   "metadata": {
    "scrolled": true
   },
   "outputs": [],
   "source": [
    "im = Image.open(ORIGINAL_IMAGES / \"patrick1.jpg\")\n",
    "imshow(im);"
   ]
  },
  {
   "cell_type": "code",
   "execution_count": null,
   "metadata": {},
   "outputs": [],
   "source": [
    "imshow(resize_image(ORIGINAL_IMAGES / \"patrick1.jpg\"))"
   ]
  },
  {
   "cell_type": "code",
   "execution_count": null,
   "metadata": {
    "scrolled": true
   },
   "outputs": [],
   "source": [
    "images = os.listdir(ORIGINAL_IMAGES)\n",
    "\n",
    "f, axes = plt.subplots(\n",
    "    nrows=floor(len(images) / 3),\n",
    "    ncols=3,\n",
    "    figsize=(12, 6*floor(len(images) / 3))\n",
    ")\n",
    "\n",
    "for row in axes:\n",
    "    for ax in row:\n",
    "        try:\n",
    "            img_name = images.pop()\n",
    "            \n",
    "        except IndexError:\n",
    "            break\n",
    "        \n",
    "        else:\n",
    "            if os.path.isdir(ORIGINAL_IMAGES / img_name):\n",
    "                continue\n",
    "                \n",
    "            image = resize_image(ORIGINAL_IMAGES / img_name)\n",
    "            \n",
    "            ax.imshow(image)"
   ]
  },
  {
   "cell_type": "markdown",
   "metadata": {},
   "source": [
    "## STOP HERE\n",
    "\n",
    "Make sure that all images show above have the correct orientation!\n",
    "If they don't, you may have to fix them manually."
   ]
  },
  {
   "cell_type": "code",
   "execution_count": null,
   "metadata": {},
   "outputs": [],
   "source": [
    "def save_image(img, fp):\n",
    "    try:\n",
    "        img.save(fp, \"JPEG\")\n",
    "\n",
    "    except OSError:\n",
    "        # Handling PNG\n",
    "        img = img.convert(\"RGB\")\n",
    "        img.save(fp, \"JPEG\")\n",
    "\n",
    "\n",
    "def resize_images():\n",
    "    for image_name in os.listdir(ORIGINAL_IMAGES):\n",
    "        if not os.path.isdir(ORIGINAL_IMAGES / image_name):\n",
    "            print(f\"Resizing {image_name}\")\n",
    "\n",
    "            resized = resize_image(ORIGINAL_IMAGES / image_name)\n",
    "\n",
    "            new_name = '.'.join(image_name.split(\".\")[:-1]) + \".jpeg\"\n",
    "            save_image(resized, RESIZED_IMAGES / new_name)"
   ]
  },
  {
   "cell_type": "code",
   "execution_count": null,
   "metadata": {},
   "outputs": [],
   "source": [
    "resize_images()"
   ]
  },
  {
   "cell_type": "code",
   "execution_count": null,
   "metadata": {},
   "outputs": [],
   "source": [
    "from collections import defaultdict\n",
    "import re\n",
    "\n",
    "\n",
    "def get_student_images(path):\n",
    "    ptrn = re.compile(r'(?P<name>.*)\\d')\n",
    "    student_images = defaultdict(list)\n",
    "\n",
    "    for fp in os.listdir(RESIZED_IMAGES):\n",
    "        m = ptrn.match(fp)\n",
    "        student_images[m.group('name')].append(fp)\n",
    "\n",
    "    return student_images"
   ]
  },
  {
   "cell_type": "code",
   "execution_count": null,
   "metadata": {
    "scrolled": true
   },
   "outputs": [],
   "source": [
    "get_student_images(RESIZED_IMAGES)"
   ]
  },
  {
   "cell_type": "code",
   "execution_count": null,
   "metadata": {},
   "outputs": [],
   "source": [
    "from shutil import copyfile\n",
    "\n",
    "\n",
    "# copying one pic to the other if they don't have a funny\n",
    "for student, files in get_student_images(RESIZED_IMAGES).items():\n",
    "    if len(files) == 1:\n",
    "        src_filename = files[0]\n",
    "        copyfile(\n",
    "             RESIZED_IMAGES / src_filename,\n",
    "             RESIZED_IMAGES / f\"{student}2.jpeg\",\n",
    "        )"
   ]
  },
  {
   "cell_type": "code",
   "execution_count": null,
   "metadata": {},
   "outputs": [],
   "source": [
    "get_student_images(RESIZED_IMAGES)"
   ]
  },
  {
   "cell_type": "code",
   "execution_count": null,
   "metadata": {},
   "outputs": [],
   "source": []
  }
 ],
 "metadata": {
  "kernelspec": {
   "display_name": "Python 3",
   "language": "python",
   "name": "python3"
  },
  "language_info": {
   "codemirror_mode": {
    "name": "ipython",
    "version": 3
   },
   "file_extension": ".py",
   "mimetype": "text/x-python",
   "name": "python",
   "nbconvert_exporter": "python",
   "pygments_lexer": "ipython3",
   "version": "3.7.4"
  }
 },
 "nbformat": 4,
 "nbformat_minor": 2
}
