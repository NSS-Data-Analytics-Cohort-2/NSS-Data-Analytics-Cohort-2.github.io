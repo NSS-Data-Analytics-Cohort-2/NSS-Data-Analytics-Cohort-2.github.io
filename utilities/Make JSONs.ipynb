{
 "cells": [
  {
   "cell_type": "code",
   "execution_count": 1,
   "metadata": {},
   "outputs": [],
   "source": [
    "import os\n",
    "import pandas as pd\n",
    "import json"
   ]
  },
  {
   "cell_type": "code",
   "execution_count": 2,
   "metadata": {},
   "outputs": [
    {
     "data": {
      "text/html": [
       "<div>\n",
       "<style scoped>\n",
       "    .dataframe tbody tr th:only-of-type {\n",
       "        vertical-align: middle;\n",
       "    }\n",
       "\n",
       "    .dataframe tbody tr th {\n",
       "        vertical-align: top;\n",
       "    }\n",
       "\n",
       "    .dataframe thead th {\n",
       "        text-align: right;\n",
       "    }\n",
       "</style>\n",
       "<table border=\"1\" class=\"dataframe\">\n",
       "  <thead>\n",
       "    <tr style=\"text-align: right;\">\n",
       "      <th></th>\n",
       "      <th>First Name</th>\n",
       "      <th>Last Name</th>\n",
       "      <th>Professional Headshot</th>\n",
       "      <th>Funny Headshot</th>\n",
       "      <th>GitHub</th>\n",
       "      <th>LinkedIn</th>\n",
       "      <th>PDF Resume</th>\n",
       "      <th>Capstone (link)</th>\n",
       "      <th>Tagline</th>\n",
       "      <th>Bio</th>\n",
       "      <th>Personal site or Capstone repo</th>\n",
       "      <th>Class Website</th>\n",
       "    </tr>\n",
       "  </thead>\n",
       "  <tbody>\n",
       "    <tr>\n",
       "      <td>22</td>\n",
       "      <td>William</td>\n",
       "      <td>McWilliams</td>\n",
       "      <td>x</td>\n",
       "      <td>NaN</td>\n",
       "      <td>https://github.com/WMcWilliams15</td>\n",
       "      <td>https://www.linkedin.com/in/will-mcwilliams/</td>\n",
       "      <td>NaN</td>\n",
       "      <td>NaN</td>\n",
       "      <td>“It always seems impossible until it is done.”...</td>\n",
       "      <td>Carpenter turned data analyst, who has an infi...</td>\n",
       "      <td>NaN</td>\n",
       "      <td>NaN</td>\n",
       "    </tr>\n",
       "    <tr>\n",
       "      <td>23</td>\n",
       "      <td>Yasin</td>\n",
       "      <td>Hasan</td>\n",
       "      <td>x</td>\n",
       "      <td>NaN</td>\n",
       "      <td>https://github.com/yhasan47</td>\n",
       "      <td>https://www.linkedin.com/in/yasinhasan47</td>\n",
       "      <td>NaN</td>\n",
       "      <td>NaN</td>\n",
       "      <td>\"I am ready to face any challenge that might b...</td>\n",
       "      <td>A Science Teacher turned into a Data Analyst.</td>\n",
       "      <td>NaN</td>\n",
       "      <td>NaN</td>\n",
       "    </tr>\n",
       "    <tr>\n",
       "      <td>24</td>\n",
       "      <td>UrLeaka</td>\n",
       "      <td>Test</td>\n",
       "      <td>x</td>\n",
       "      <td>x</td>\n",
       "      <td>https://github.com/unewsome</td>\n",
       "      <td>https://www.linkedin.com/in/urleaka-newsome/</td>\n",
       "      <td>x</td>\n",
       "      <td>NaN</td>\n",
       "      <td>\"Data is as data does\"</td>\n",
       "      <td>This stuff is fun!' I can't believe I said tha...</td>\n",
       "      <td>NaN</td>\n",
       "      <td>https://nss-data-science-cohort-2.github.io/</td>\n",
       "    </tr>\n",
       "    <tr>\n",
       "      <td>25</td>\n",
       "      <td>Matt</td>\n",
       "      <td>Test</td>\n",
       "      <td>x</td>\n",
       "      <td>x</td>\n",
       "      <td>NaN</td>\n",
       "      <td>NaN</td>\n",
       "      <td>NaN</td>\n",
       "      <td>NaN</td>\n",
       "      <td>NaN</td>\n",
       "      <td>NaN</td>\n",
       "      <td>NaN</td>\n",
       "      <td>NaN</td>\n",
       "    </tr>\n",
       "    <tr>\n",
       "      <td>26</td>\n",
       "      <td>Taylor</td>\n",
       "      <td>Test</td>\n",
       "      <td>NaN</td>\n",
       "      <td>NaN</td>\n",
       "      <td>NaN</td>\n",
       "      <td>NaN</td>\n",
       "      <td>NaN</td>\n",
       "      <td>NaN</td>\n",
       "      <td>\"Data does as data is\"</td>\n",
       "      <td>NaN</td>\n",
       "      <td>NaN</td>\n",
       "      <td>NaN</td>\n",
       "    </tr>\n",
       "  </tbody>\n",
       "</table>\n",
       "</div>"
      ],
      "text/plain": [
       "   First Name   Last Name Professional Headshot Funny Headshot  \\\n",
       "22    William  McWilliams                     x            NaN   \n",
       "23      Yasin       Hasan                     x            NaN   \n",
       "24    UrLeaka        Test                     x              x   \n",
       "25      Matt         Test                     x              x   \n",
       "26     Taylor        Test                   NaN            NaN   \n",
       "\n",
       "                              GitHub  \\\n",
       "22  https://github.com/WMcWilliams15   \n",
       "23       https://github.com/yhasan47   \n",
       "24       https://github.com/unewsome   \n",
       "25                               NaN   \n",
       "26                               NaN   \n",
       "\n",
       "                                        LinkedIn PDF Resume  Capstone (link)  \\\n",
       "22  https://www.linkedin.com/in/will-mcwilliams/        NaN              NaN   \n",
       "23      https://www.linkedin.com/in/yasinhasan47        NaN              NaN   \n",
       "24  https://www.linkedin.com/in/urleaka-newsome/          x              NaN   \n",
       "25                                           NaN        NaN              NaN   \n",
       "26                                           NaN        NaN              NaN   \n",
       "\n",
       "                                              Tagline  \\\n",
       "22  “It always seems impossible until it is done.”...   \n",
       "23  \"I am ready to face any challenge that might b...   \n",
       "24                             \"Data is as data does\"   \n",
       "25                                                NaN   \n",
       "26                             \"Data does as data is\"   \n",
       "\n",
       "                                                  Bio  \\\n",
       "22  Carpenter turned data analyst, who has an infi...   \n",
       "23     A Science Teacher turned into a Data Analyst.    \n",
       "24  This stuff is fun!' I can't believe I said tha...   \n",
       "25                                                NaN   \n",
       "26                                                NaN   \n",
       "\n",
       "   Personal site or Capstone repo  \\\n",
       "22                            NaN   \n",
       "23                            NaN   \n",
       "24                            NaN   \n",
       "25                            NaN   \n",
       "26                            NaN   \n",
       "\n",
       "                                   Class Website  \n",
       "22                                           NaN  \n",
       "23                                           NaN  \n",
       "24  https://nss-data-science-cohort-2.github.io/  \n",
       "25                                           NaN  \n",
       "26                                           NaN  "
      ]
     },
     "execution_count": 2,
     "metadata": {},
     "output_type": "execute_result"
    }
   ],
   "source": [
    "website_info = pd.read_csv('./../data/Website - Website.csv')\n",
    "website_info.tail()"
   ]
  },
  {
   "cell_type": "markdown",
   "metadata": {},
   "source": [
    "---\n",
    "\n",
    "Filter out the teachers / nan stuff"
   ]
  },
  {
   "cell_type": "code",
   "execution_count": 3,
   "metadata": {},
   "outputs": [],
   "source": [
    "website_info = website_info[~((website_info['Last Name'] == 'Test') | website_info['First Name'].isnull())]"
   ]
  },
  {
   "cell_type": "markdown",
   "metadata": {},
   "source": [
    "---\n",
    "\n",
    "Rename the columns to something that can be ingested by the js"
   ]
  },
  {
   "cell_type": "code",
   "execution_count": 4,
   "metadata": {},
   "outputs": [
    {
     "data": {
      "text/plain": [
       "Index(['firstName', 'lastName', 'reelThemIn', 'bio', 'github', 'linkedin',\n",
       "       'portfolio'],\n",
       "      dtype='object')"
      ]
     },
     "execution_count": 4,
     "metadata": {},
     "output_type": "execute_result"
    }
   ],
   "source": [
    "column_map = {\n",
    "    'First Name': 'firstName',\n",
    "    'Last Name': 'lastName',\n",
    "    'Tagline': 'reelThemIn',\n",
    "    'Bio': 'bio',\n",
    "    'GitHub': 'github',\n",
    "    'LinkedIn': 'linkedin',\n",
    "    'Personal site or Capstone repo': 'portfolio'\n",
    "}\n",
    "\n",
    "website_info = website_info.rename(column_map, axis=1)\n",
    "website_info = website_info[column_map.values()]\n",
    "\n",
    "website_info.columns"
   ]
  },
  {
   "cell_type": "markdown",
   "metadata": {},
   "source": [
    "---\n",
    "\n",
    "Make the paragraphs"
   ]
  },
  {
   "cell_type": "code",
   "execution_count": 5,
   "metadata": {},
   "outputs": [],
   "source": [
    "def html_paragraph(v):\n",
    "    if pd.isna(v):\n",
    "        return \"\"\n",
    "    return f\"<p>{str(v)}</p>\"\n",
    "\n",
    "\n",
    "website_info['reelThemIn'] = website_info['reelThemIn'].apply(html_paragraph)\n",
    "website_info['bio'] = website_info['bio'].apply(html_paragraph)"
   ]
  },
  {
   "cell_type": "markdown",
   "metadata": {},
   "source": [
    "---\n",
    "\n",
    "Clean up some excess characters"
   ]
  },
  {
   "cell_type": "code",
   "execution_count": 6,
   "metadata": {},
   "outputs": [],
   "source": [
    "for col in website_info.columns:\n",
    "    website_info[col] = website_info[col] \\\n",
    "        .str.replace('“', '\"') \\\n",
    "        .str.replace('”', '\"') \\\n",
    "        .str.replace(\"’\", \"'\") \\\n",
    "        .str.replace(\"—\", \"-\")"
   ]
  },
  {
   "cell_type": "markdown",
   "metadata": {},
   "source": [
    "---\n",
    "\n",
    "Gather the image paths"
   ]
  },
  {
   "cell_type": "code",
   "execution_count": 7,
   "metadata": {},
   "outputs": [],
   "source": [
    "def image_path(name, idx):\n",
    "    return f\"../assets/img/resized/{name.lower()}{idx}.jpeg\"\n",
    "\n",
    "\n",
    "website_info['proImg'] = website_info['firstName'].apply(image_path, idx=1)\n",
    "website_info['funImg'] = website_info['firstName'].apply(image_path, idx=2)"
   ]
  },
  {
   "cell_type": "markdown",
   "metadata": {},
   "source": [
    "---\n",
    "\n",
    "Assign Ids"
   ]
  },
  {
   "cell_type": "code",
   "execution_count": 8,
   "metadata": {},
   "outputs": [],
   "source": [
    "website_info['id'] = website_info.index + 1"
   ]
  },
  {
   "cell_type": "markdown",
   "metadata": {},
   "source": [
    "---\n",
    "\n",
    "Take a peek"
   ]
  },
  {
   "cell_type": "code",
   "execution_count": 9,
   "metadata": {},
   "outputs": [
    {
     "data": {
      "text/html": [
       "<div>\n",
       "<style scoped>\n",
       "    .dataframe tbody tr th:only-of-type {\n",
       "        vertical-align: middle;\n",
       "    }\n",
       "\n",
       "    .dataframe tbody tr th {\n",
       "        vertical-align: top;\n",
       "    }\n",
       "\n",
       "    .dataframe thead th {\n",
       "        text-align: right;\n",
       "    }\n",
       "</style>\n",
       "<table border=\"1\" class=\"dataframe\">\n",
       "  <thead>\n",
       "    <tr style=\"text-align: right;\">\n",
       "      <th></th>\n",
       "      <th>firstName</th>\n",
       "      <th>lastName</th>\n",
       "      <th>reelThemIn</th>\n",
       "      <th>bio</th>\n",
       "      <th>github</th>\n",
       "      <th>linkedin</th>\n",
       "      <th>portfolio</th>\n",
       "      <th>proImg</th>\n",
       "      <th>funImg</th>\n",
       "      <th>id</th>\n",
       "    </tr>\n",
       "  </thead>\n",
       "  <tbody>\n",
       "    <tr>\n",
       "      <td>0</td>\n",
       "      <td>Adam</td>\n",
       "      <td>Tsuchiyama</td>\n",
       "      <td>&lt;p&gt;\"In God we trust. All others, bring data.\" ...</td>\n",
       "      <td>&lt;p&gt;Whether it's determining how to incorporate...</td>\n",
       "      <td>https://github.com/adamtsuch21</td>\n",
       "      <td>https://www.linkedin.com/in/adam-tsuchiyama/</td>\n",
       "      <td>NaN</td>\n",
       "      <td>../assets/img/resized/adam1.jpeg</td>\n",
       "      <td>../assets/img/resized/adam2.jpeg</td>\n",
       "      <td>1</td>\n",
       "    </tr>\n",
       "  </tbody>\n",
       "</table>\n",
       "</div>"
      ],
      "text/plain": [
       "  firstName    lastName                                         reelThemIn  \\\n",
       "0      Adam  Tsuchiyama  <p>\"In God we trust. All others, bring data.\" ...   \n",
       "\n",
       "                                                 bio  \\\n",
       "0  <p>Whether it's determining how to incorporate...   \n",
       "\n",
       "                           github  \\\n",
       "0  https://github.com/adamtsuch21   \n",
       "\n",
       "                                       linkedin portfolio  \\\n",
       "0  https://www.linkedin.com/in/adam-tsuchiyama/       NaN   \n",
       "\n",
       "                             proImg                            funImg  id  \n",
       "0  ../assets/img/resized/adam1.jpeg  ../assets/img/resized/adam2.jpeg   1  "
      ]
     },
     "execution_count": 9,
     "metadata": {},
     "output_type": "execute_result"
    }
   ],
   "source": [
    "website_info.head(1)"
   ]
  },
  {
   "cell_type": "code",
   "execution_count": 10,
   "metadata": {},
   "outputs": [],
   "source": [
    "website_info.to_json(\"./../data/cohort.json\", orient='records')"
   ]
  },
  {
   "cell_type": "code",
   "execution_count": null,
   "metadata": {},
   "outputs": [],
   "source": []
  }
 ],
 "metadata": {
  "kernelspec": {
   "display_name": "Python 3",
   "language": "python",
   "name": "python3"
  },
  "language_info": {
   "codemirror_mode": {
    "name": "ipython",
    "version": 3
   },
   "file_extension": ".py",
   "mimetype": "text/x-python",
   "name": "python",
   "nbconvert_exporter": "python",
   "pygments_lexer": "ipython3",
   "version": "3.7.4"
  }
 },
 "nbformat": 4,
 "nbformat_minor": 2
}
