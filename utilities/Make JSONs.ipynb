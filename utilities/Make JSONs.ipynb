{
 "cells": [
  {
   "cell_type": "code",
   "execution_count": null,
   "metadata": {},
   "outputs": [],
   "source": [
    "import os\n",
    "import pandas as pd\n",
    "import json"
   ]
  },
  {
   "cell_type": "code",
   "execution_count": null,
   "metadata": {
    "scrolled": true
   },
   "outputs": [],
   "source": [
    "website_info = pd.read_csv('./../data/Website - Website.csv')\n",
    "website_info.tail()"
   ]
  },
  {
   "cell_type": "markdown",
   "metadata": {},
   "source": [
    "---\n",
    "\n",
    "Filter out the teachers / nan stuff"
   ]
  },
  {
   "cell_type": "code",
   "execution_count": null,
   "metadata": {},
   "outputs": [],
   "source": [
    "website_info = website_info[~((website_info['Last Name'] == 'Test') | website_info['First Name'].isnull())]"
   ]
  },
  {
   "cell_type": "code",
   "execution_count": null,
   "metadata": {},
   "outputs": [],
   "source": [
    "website_info.head()"
   ]
  },
  {
   "cell_type": "markdown",
   "metadata": {},
   "source": [
    "---\n",
    "\n",
    "Rename the columns to something that can be ingested by the js"
   ]
  },
  {
   "cell_type": "code",
   "execution_count": null,
   "metadata": {},
   "outputs": [],
   "source": [
    "column_map = {\n",
    "    'First Name': 'firstName',\n",
    "    'Last Name': 'lastName',\n",
    "    'Tagline': 'reelThemIn',\n",
    "    'Bio': 'bio',\n",
    "    'GitHub': 'github',\n",
    "    'LinkedIn': 'linkedin',\n",
    "    'Is Job Searching': 'job_searching',\n",
    "    'Website Portfolio': 'portfolio'\n",
    "}\n",
    "\n",
    "website_info = website_info.rename(column_map, axis=1)\n",
    "website_info = website_info[column_map.values()]\n",
    "\n",
    "website_info.columns"
   ]
  },
  {
   "cell_type": "markdown",
   "metadata": {},
   "source": [
    "---\n",
    "\n",
    "Make the paragraphs"
   ]
  },
  {
   "cell_type": "code",
   "execution_count": null,
   "metadata": {},
   "outputs": [],
   "source": [
    "def html_paragraph(v):\n",
    "    if pd.isna(v):\n",
    "        return \"\"\n",
    "    return f\"<p>{str(v)}</p>\"\n",
    "\n",
    "\n",
    "website_info['reelThemIn'] = website_info['reelThemIn'].apply(html_paragraph)\n",
    "website_info['bio'] = website_info['bio'].apply(html_paragraph)"
   ]
  },
  {
   "cell_type": "markdown",
   "metadata": {},
   "source": [
    "---\n",
    "\n",
    "Clean up some excess characters"
   ]
  },
  {
   "cell_type": "code",
   "execution_count": null,
   "metadata": {},
   "outputs": [],
   "source": [
    "for col in website_info.columns:\n",
    "    try:\n",
    "        website_info[col] = website_info[col] \\\n",
    "            .str.replace('“', '\"') \\\n",
    "            .str.replace('”', '\"') \\\n",
    "            .str.replace(\"’\", \"'\") \\\n",
    "            .str.replace(\"—\", \"-\")\n",
    "    except:\n",
    "        pass"
   ]
  },
  {
   "cell_type": "markdown",
   "metadata": {},
   "source": [
    "---\n",
    "\n",
    "Gather the image paths"
   ]
  },
  {
   "cell_type": "code",
   "execution_count": null,
   "metadata": {},
   "outputs": [],
   "source": [
    "def image_path(name, idx):\n",
    "    return f\"../assets/img/resized/{name.lower()}{idx}.jpeg\"\n",
    "\n",
    "\n",
    "website_info['proImg'] = website_info['firstName'].apply(image_path, idx=1)\n",
    "website_info['funImg'] = website_info['firstName'].apply(image_path, idx=2)"
   ]
  },
  {
   "cell_type": "markdown",
   "metadata": {},
   "source": [
    "---\n",
    "\n",
    "Resume paths"
   ]
  },
  {
   "cell_type": "code",
   "execution_count": null,
   "metadata": {},
   "outputs": [],
   "source": [
    "def resume_path(name):\n",
    "    path = f\"../assets/resume/{name.lower()}.pdf\"\n",
    "    if os.path.exists(path):\n",
    "        return path\n",
    "\n",
    "\n",
    "website_info['resume'] = website_info['firstName'].apply(resume_path)\n",
    "website_info[['firstName', 'resume']]"
   ]
  },
  {
   "cell_type": "markdown",
   "metadata": {},
   "source": [
    "---\n",
    "\n",
    "Assign Ids"
   ]
  },
  {
   "cell_type": "code",
   "execution_count": null,
   "metadata": {},
   "outputs": [],
   "source": [
    "website_info['id'] = website_info.index + 1"
   ]
  },
  {
   "cell_type": "markdown",
   "metadata": {},
   "source": [
    "---\n",
    "\n",
    "Take a peek"
   ]
  },
  {
   "cell_type": "code",
   "execution_count": null,
   "metadata": {},
   "outputs": [],
   "source": [
    "website_info.head(1)"
   ]
  },
  {
   "cell_type": "code",
   "execution_count": null,
   "metadata": {},
   "outputs": [],
   "source": [
    "website_info.to_json(\"./../data/cohort.json\", orient='records')"
   ]
  },
  {
   "cell_type": "code",
   "execution_count": null,
   "metadata": {},
   "outputs": [],
   "source": []
  }
 ],
 "metadata": {
  "kernelspec": {
   "display_name": "Python 3",
   "language": "python",
   "name": "python3"
  },
  "language_info": {
   "codemirror_mode": {
    "name": "ipython",
    "version": 3
   },
   "file_extension": ".py",
   "mimetype": "text/x-python",
   "name": "python",
   "nbconvert_exporter": "python",
   "pygments_lexer": "ipython3",
   "version": "3.7.4"
  }
 },
 "nbformat": 4,
 "nbformat_minor": 2
}
